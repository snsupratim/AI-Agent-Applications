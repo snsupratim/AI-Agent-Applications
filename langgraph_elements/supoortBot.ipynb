{
  "nbformat": 4,
  "nbformat_minor": 0,
  "metadata": {
    "colab": {
      "provenance": [],
      "gpuType": "T4"
    },
    "kernelspec": {
      "name": "python3",
      "display_name": "Python 3"
    },
    "language_info": {
      "name": "python"
    },
    "accelerator": "GPU"
  },
  "cells": [
    {
      "cell_type": "code",
      "source": [
        "from typing_extensions import TypedDict\n",
        "from langgraph.graph import StateGraph,END\n",
        "from typing import Dict,TypedDict,Literal"
      ],
      "metadata": {
        "id": "aRZYhEDza4RW"
      },
      "execution_count": 30,
      "outputs": []
    },
    {
      "cell_type": "code",
      "source": [
        "# define nour state\n",
        "\n",
        "class SupportState(TypedDict):\n",
        "  messages:list[str]\n",
        "  issue_type:Literal[\"billing\",\"technical\",\"unknown\"]"
      ],
      "metadata": {
        "id": "ddfF-7E8bZda"
      },
      "execution_count": 31,
      "outputs": []
    },
    {
      "cell_type": "code",
      "source": [
        "# define nodes\n",
        "\n",
        "# Node: Greet the user\n",
        "def greet_node(state: SupportState) -> SupportState:\n",
        "    print(\" Hello! I'm SupportBot. What issue can I help you with?\")\n",
        "    return state  # just pass state forward\n",
        "\n",
        "# Node: Classify issue type (simulated)\n",
        "def classify_issue_node(state: SupportState) -> SupportState:\n",
        "    last_msg = state[\"messages\"][-1].lower()\n",
        "    if \"bill\" in last_msg:\n",
        "        state[\"issue_type\"] = \"billing\"\n",
        "    elif \"error\" in last_msg or \"crash\" in last_msg:\n",
        "        state[\"issue_type\"] = \"technical\"\n",
        "    else:\n",
        "        state[\"issue_type\"] = \"unknown\"\n",
        "    return state"
      ],
      "metadata": {
        "id": "n-EucJ6PbtKr"
      },
      "execution_count": 32,
      "outputs": []
    },
    {
      "cell_type": "code",
      "source": [
        "# Tool function: handle billing\n",
        "def billing_tool(state: SupportState) -> SupportState:\n",
        "    print(\"💳 Redirecting you to the billing team...\")\n",
        "    return state\n",
        "\n",
        "# Tool function: handle technical issue\n",
        "def technical_tool(state: SupportState) -> SupportState:\n",
        "    print(\"🛠️ Let's troubleshoot your issue...\")\n",
        "    return state\n",
        "\n",
        "def fallback_tool(state:SupportState)-> SupportState:\n",
        "  print(\"❓ Sorry! I could not understand your issue\")\n",
        "  return state"
      ],
      "metadata": {
        "id": "9tQq4Ql6cFGi"
      },
      "execution_count": 33,
      "outputs": []
    },
    {
      "cell_type": "code",
      "source": [
        "# build the graph\n",
        "\n",
        "graph=StateGraph(SupportState)\n",
        "graph.add_node(\"greet\",greet_node)\n",
        "graph.add_node(\"classify\",classify_issue_node)\n",
        "graph.add_node(\"billing_support\",billing_tool)\n",
        "graph.add_node(\"technical_support\",technical_tool)\n",
        "graph.add_node(\"fallback\",fallback_tool)"
      ],
      "metadata": {
        "colab": {
          "base_uri": "https://localhost:8080/"
        },
        "id": "b3QN3w09cbgD",
        "outputId": "904c174a-ba09-4cb5-e4a2-fd1b957f6fdd"
      },
      "execution_count": 42,
      "outputs": [
        {
          "output_type": "execute_result",
          "data": {
            "text/plain": [
              "<langgraph.graph.state.StateGraph at 0x7a1655805010>"
            ]
          },
          "metadata": {},
          "execution_count": 42
        }
      ]
    },
    {
      "cell_type": "code",
      "source": [
        "graph.set_entry_point(\"greet\")\n",
        "graph.add_edge(\"greet\",\"classify\")"
      ],
      "metadata": {
        "colab": {
          "base_uri": "https://localhost:8080/"
        },
        "id": "EeohSDaFc5Ew",
        "outputId": "84562990-322e-4bd6-b5b1-f0820b94e663"
      },
      "execution_count": 43,
      "outputs": [
        {
          "output_type": "execute_result",
          "data": {
            "text/plain": [
              "<langgraph.graph.state.StateGraph at 0x7a1655805010>"
            ]
          },
          "metadata": {},
          "execution_count": 43
        }
      ]
    },
    {
      "cell_type": "code",
      "source": [
        "def route_logic(state:SupportState)->str:\n",
        "  return{\n",
        "      \"billing\":\"billing_support\",\n",
        "      \"technical\":\"technical_support\",\n",
        "      \"unknown\":\"fallback\"\n",
        "  }[state[\"issue_type\"]]\n",
        "graph.add_conditional_edges(\"classify\",route_logic,{\n",
        "    \"billing_support\":\"billing_support\",\n",
        "    \"technical_support\":\"technical_support\",\n",
        "    \"fallback\":\"fallback\"\n",
        "})"
      ],
      "metadata": {
        "colab": {
          "base_uri": "https://localhost:8080/"
        },
        "id": "zcZKmxGAda9V",
        "outputId": "d4a1cc6f-f51c-4ee7-9e52-73cdd41ae047"
      },
      "execution_count": 44,
      "outputs": [
        {
          "output_type": "execute_result",
          "data": {
            "text/plain": [
              "<langgraph.graph.state.StateGraph at 0x7a1655805010>"
            ]
          },
          "metadata": {},
          "execution_count": 44
        }
      ]
    },
    {
      "cell_type": "code",
      "source": [
        "# add edges from tool/fallback\n",
        "graph.add_edge(\"billing_support\",END)\n",
        "graph.add_edge(\"technical_support\",END)\n",
        "graph.add_edge(\"fallback\",END)"
      ],
      "metadata": {
        "colab": {
          "base_uri": "https://localhost:8080/"
        },
        "id": "tYOp-SKxdC6q",
        "outputId": "0cdee4d4-252d-4c03-f097-7aca6d88e549"
      },
      "execution_count": 45,
      "outputs": [
        {
          "output_type": "execute_result",
          "data": {
            "text/plain": [
              "<langgraph.graph.state.StateGraph at 0x7a1655805010>"
            ]
          },
          "metadata": {},
          "execution_count": 45
        }
      ]
    },
    {
      "cell_type": "code",
      "source": [
        "# compile\n",
        "runnable_graph=graph.compile()"
      ],
      "metadata": {
        "id": "uOHNWcQ0eDCM"
      },
      "execution_count": 46,
      "outputs": []
    },
    {
      "cell_type": "code",
      "source": [
        "print(\"SIMULATION:Billing Issue\")\n",
        "stream=runnable_graph.stream({\n",
        "    \"messages\":[\"I have a billing issue\"],\n",
        "    \"issue_type\":\"unknown\"\n",
        "})\n",
        "\n",
        "\n",
        "# iterate and show each step\n",
        "for step in stream:\n",
        "  for node_name,node_output in step.items():\n",
        "    print(f\"Node :{node_name}\")\n",
        "    print(f\"State:{node_output}\")"
      ],
      "metadata": {
        "colab": {
          "base_uri": "https://localhost:8080/"
        },
        "id": "aZQUesWleSK-",
        "outputId": "0929ead9-8298-446a-80c1-90645bcce48d"
      },
      "execution_count": 47,
      "outputs": [
        {
          "output_type": "stream",
          "name": "stdout",
          "text": [
            "SIMULATION:Billing Issue\n",
            " Hello! I'm SupportBot. What issue can I help you with?\n",
            "Node :greet\n",
            "State:{'messages': ['I have a billing issue'], 'issue_type': 'unknown'}\n",
            "Node :classify\n",
            "State:{'messages': ['I have a billing issue'], 'issue_type': 'billing'}\n",
            "💳 Redirecting you to the billing team...\n",
            "Node :billing_support\n",
            "State:{'messages': ['I have a billing issue'], 'issue_type': 'billing'}\n"
          ]
        }
      ]
    },
    {
      "cell_type": "code",
      "source": [
        "from IPython.display import Image,display\n",
        "display(Image(runnable_graph.get_graph().draw_mermaid_png()))"
      ],
      "metadata": {
        "colab": {
          "base_uri": "https://localhost:8080/",
          "height": 449
        },
        "id": "xr7d7MlKgKpo",
        "outputId": "f82fc1c7-60d4-4eff-ad22-ead48e0a3954"
      },
      "execution_count": 49,
      "outputs": [
        {
          "output_type": "display_data",
          "data": {
            "image/png": "[encoded data removed]",
            "text/plain": [
              "<IPython.core.display.Image object>"
            ]
          },
          "metadata": {}
        }
      ]
    }
  ]
}